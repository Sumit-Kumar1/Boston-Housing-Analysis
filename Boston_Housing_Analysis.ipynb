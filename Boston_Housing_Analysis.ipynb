{
  "nbformat": 4,
  "nbformat_minor": 0,
  "metadata": {
    "colab": {
      "name": "Boston Housing Analysis.ipynb",
      "provenance": [],
      "collapsed_sections": [],
      "authorship_tag": "ABX9TyOy4guJxxh0cMqavFNxwtLv",
      "include_colab_link": true
    },
    "kernelspec": {
      "name": "python3",
      "display_name": "Python 3"
    }
  },
  "cells": [
    {
      "cell_type": "markdown",
      "metadata": {
        "id": "view-in-github",
        "colab_type": "text"
      },
      "source": [
        "<a href=\"https://colab.research.google.com/github/architsharmaa/Boston-Housing-Analysis/blob/master/Boston_Housing_Analysis.ipynb\" target=\"_parent\"><img src=\"https://colab.research.google.com/assets/colab-badge.svg\" alt=\"Open In Colab\"/></a>"
      ]
    },
    {
      "cell_type": "markdown",
      "metadata": {
        "id": "8qMYHgdbMjX6",
        "colab_type": "text"
      },
      "source": [
        "#                            **SECTION -A ( DATA LOADING / PREPARATION)**\n",
        "\n",
        ">The following section demonstrates the way of preparing and load the data in then Notebok\n",
        ">>**ARCHIT SHARMA**\n",
        "\n",
        "\n",
        "--------------------------------------------------------------------------------\n",
        "\n",
        "\n",
        "\n",
        "\n"
      ]
    },
    {
      "cell_type": "markdown",
      "metadata": {
        "id": "DuIxqIeUWcse",
        "colab_type": "text"
      },
      "source": [
        "Installing the sklearn package in order to laod data and ML Functions "
      ]
    },
    {
      "cell_type": "code",
      "metadata": {
        "id": "m3X1Tvi8c3Tx",
        "colab_type": "code",
        "outputId": "49c74ed7-5956-4f1c-b713-7ee7b5ceaa28",
        "colab": {
          "base_uri": "https://localhost:8080/",
          "height": 101
        }
      },
      "source": [
        "!pip install sklearn"
      ],
      "execution_count": 23,
      "outputs": [
        {
          "output_type": "stream",
          "text": [
            "Requirement already satisfied: sklearn in /usr/local/lib/python3.6/dist-packages (0.0)\n",
            "Requirement already satisfied: scikit-learn in /usr/local/lib/python3.6/dist-packages (from sklearn) (0.22.1)\n",
            "Requirement already satisfied: numpy>=1.11.0 in /usr/local/lib/python3.6/dist-packages (from scikit-learn->sklearn) (1.17.5)\n",
            "Requirement already satisfied: scipy>=0.17.0 in /usr/local/lib/python3.6/dist-packages (from scikit-learn->sklearn) (1.4.1)\n",
            "Requirement already satisfied: joblib>=0.11 in /usr/local/lib/python3.6/dist-packages (from scikit-learn->sklearn) (0.14.1)\n"
          ],
          "name": "stdout"
        }
      ]
    },
    {
      "cell_type": "markdown",
      "metadata": {
        "id": "mF08LuVSbLbM",
        "colab_type": "text"
      },
      "source": [
        "Importing the header files of :\n",
        ">Pandas : Data manipulation library\n",
        ">>Numpy : Numeric data\n",
        "\n",
        "\n",
        "\n",
        "\n",
        "\n",
        "\n",
        "\n"
      ]
    },
    {
      "cell_type": "code",
      "metadata": {
        "id": "JdEQPTQex8nd",
        "colab_type": "code",
        "colab": {}
      },
      "source": [
        "import pandas as pd\n",
        "import numpy as np"
      ],
      "execution_count": 0,
      "outputs": []
    },
    {
      "cell_type": "markdown",
      "metadata": {
        "id": "-vhxBy_Wc-nL",
        "colab_type": "text"
      },
      "source": [
        "Loading Dataset on a boston instance "
      ]
    },
    {
      "cell_type": "code",
      "metadata": {
        "id": "UALiY7eQcpE2",
        "colab_type": "code",
        "colab": {}
      },
      "source": [
        "from sklearn import datasets\n",
        "boston = datasets.load_boston()"
      ],
      "execution_count": 0,
      "outputs": []
    },
    {
      "cell_type": "markdown",
      "metadata": {
        "id": "W8Fi72VadCae",
        "colab_type": "text"
      },
      "source": [
        "Creating a Pandas Dataframe 'df' for the data "
      ]
    },
    {
      "cell_type": "code",
      "metadata": {
        "id": "2PDFSCVeczP6",
        "colab_type": "code",
        "colab": {}
      },
      "source": [
        "df = pd.DataFrame(data = boston['data'],columns = boston['feature_names'])"
      ],
      "execution_count": 0,
      "outputs": []
    },
    {
      "cell_type": "markdown",
      "metadata": {
        "id": "abYUO2pkdLYM",
        "colab_type": "text"
      },
      "source": [
        "Checking the data Head - starting data  \n",
        "and Tail - last data "
      ]
    },
    {
      "cell_type": "code",
      "metadata": {
        "id": "MKiYf0GAdJ8_",
        "colab_type": "code",
        "outputId": "1ae4ac74-c96e-4df6-8f3a-8ebf9c5b6cc2",
        "colab": {
          "base_uri": "https://localhost:8080/",
          "height": 134
        }
      },
      "source": [
        "print(df.head(4))"
      ],
      "execution_count": 27,
      "outputs": [
        {
          "output_type": "stream",
          "text": [
            "      CRIM    ZN  INDUS  CHAS    NOX  ...  RAD    TAX  PTRATIO       B  LSTAT\n",
            "0  0.00632  18.0   2.31   0.0  0.538  ...  1.0  296.0     15.3  396.90   4.98\n",
            "1  0.02731   0.0   7.07   0.0  0.469  ...  2.0  242.0     17.8  396.90   9.14\n",
            "2  0.02729   0.0   7.07   0.0  0.469  ...  2.0  242.0     17.8  392.83   4.03\n",
            "3  0.03237   0.0   2.18   0.0  0.458  ...  3.0  222.0     18.7  394.63   2.94\n",
            "\n",
            "[4 rows x 13 columns]\n"
          ],
          "name": "stdout"
        }
      ]
    },
    {
      "cell_type": "markdown",
      "metadata": {
        "id": "udB4j-fTde-H",
        "colab_type": "text"
      },
      "source": [
        "Taking the same data set from the another datasource using another method"
      ]
    },
    {
      "cell_type": "code",
      "metadata": {
        "id": "mqdPRCJkebCS",
        "colab_type": "code",
        "colab": {}
      },
      "source": [
        "df1 = pd.read_csv(\"https://raw.githubusercontent.com/selva86/datasets/master/BostonHousing.csv\")"
      ],
      "execution_count": 0,
      "outputs": []
    },
    {
      "cell_type": "markdown",
      "metadata": {
        "id": "KB08UlJbZnFs",
        "colab_type": "text"
      },
      "source": [
        "Number of rows"
      ]
    },
    {
      "cell_type": "code",
      "metadata": {
        "id": "oU-JIRNHgfqR",
        "colab_type": "code",
        "outputId": "65c72fc4-196b-47a5-ef7c-8a8ddf3ec434",
        "colab": {
          "base_uri": "https://localhost:8080/",
          "height": 34
        }
      },
      "source": [
        "df.shape[0]"
      ],
      "execution_count": 29,
      "outputs": [
        {
          "output_type": "execute_result",
          "data": {
            "text/plain": [
              "506"
            ]
          },
          "metadata": {
            "tags": []
          },
          "execution_count": 29
        }
      ]
    },
    {
      "cell_type": "markdown",
      "metadata": {
        "id": "9DA59QGOZ3Cn",
        "colab_type": "text"
      },
      "source": [
        "Creating a new column in the dataframe to set a *Label Column* for modelling the data.\n",
        "\n",
        "> Shifiting the added column to the first of the dataframe \n",
        "\n",
        "\n",
        "\n"
      ]
    },
    {
      "cell_type": "code",
      "metadata": {
        "id": "bOicePytItVn",
        "colab_type": "code",
        "colab": {}
      },
      "source": [
        "df[\"MEDV\"] = boston['target']\n",
        "y = df[\"MEDV\"].copy()\n",
        "del df[\"MEDV\"]\n",
        "df = pd.concat((y,df),axis = 1)"
      ],
      "execution_count": 0,
      "outputs": []
    },
    {
      "cell_type": "markdown",
      "metadata": {
        "id": "iNx2Dl51bmvn",
        "colab_type": "text"
      },
      "source": [
        "Checking the dataframes for the inconsistencies of data"
      ]
    },
    {
      "cell_type": "code",
      "metadata": {
        "id": "0pTQoFsaK4Oc",
        "colab_type": "code",
        "outputId": "86f2fd4f-6908-4aae-d2c6-2701292ab0e4",
        "colab": {
          "base_uri": "https://localhost:8080/",
          "height": 269
        }
      },
      "source": [
        "df.isnull().sum()"
      ],
      "execution_count": 31,
      "outputs": [
        {
          "output_type": "execute_result",
          "data": {
            "text/plain": [
              "MEDV       0\n",
              "CRIM       0\n",
              "ZN         0\n",
              "INDUS      0\n",
              "CHAS       0\n",
              "NOX        0\n",
              "RM         0\n",
              "AGE        0\n",
              "DIS        0\n",
              "RAD        0\n",
              "TAX        0\n",
              "PTRATIO    0\n",
              "B          0\n",
              "LSTAT      0\n",
              "dtype: int64"
            ]
          },
          "metadata": {
            "tags": []
          },
          "execution_count": 31
        }
      ]
    },
    {
      "cell_type": "markdown",
      "metadata": {
        "id": "uBrPIYDXdBL8",
        "colab_type": "text"
      },
      "source": [
        "![The value and meaning of all the variable](https://ibb.co/428GZRW)"
      ]
    },
    {
      "cell_type": "markdown",
      "metadata": {
        "id": "ZEcvWoVWddWq",
        "colab_type": "text"
      },
      "source": [
        "Dropping the following Columns/Parameters to enhance the accuracy of the model.\n",
        "\n",
        "> Columnns are dropped on the basis of the relevance to the answers we are trying to answer\n",
        "\n"
      ]
    },
    {
      "cell_type": "code",
      "metadata": {
        "id": "GS7maVRAK8xX",
        "colab_type": "code",
        "colab": {}
      },
      "source": [
        "for col in ['ZN','NOX','RAD','PTRATIO','B']:\n",
        "  del df[col]"
      ],
      "execution_count": 0,
      "outputs": []
    },
    {
      "cell_type": "markdown",
      "metadata": {
        "id": "tEAD1Gyce-Lb",
        "colab_type": "text"
      },
      "source": [
        "\n",
        "\n",
        "--------------------------------------------------------------------------------\n",
        "\n",
        "--------------------------------------------------------------------------------"
      ]
    },
    {
      "cell_type": "markdown",
      "metadata": {
        "colab_type": "text",
        "id": "tu5a2Unde-cr"
      },
      "source": [
        "#                            **SECTION -B ( DATA Exploration)**\n",
        "\n",
        ">The following section focuses on recoginizing the ditinct patterns in the data and other info or knowledge from the data.\n",
        "\n",
        "\n",
        "--------------------------------------------------------------------------------\n",
        "\n",
        "\n",
        "\n",
        "\n"
      ]
    },
    {
      "cell_type": "markdown",
      "metadata": {
        "id": "4fl339aIiRCA",
        "colab_type": "text"
      },
      "source": [
        "Getting the basic info of the data"
      ]
    },
    {
      "cell_type": "code",
      "metadata": {
        "id": "ST8_7cL-fZE6",
        "colab_type": "code",
        "outputId": "45ac859c-dc25-4fbf-d427-4e00e4e040a6",
        "colab": {
          "base_uri": "https://localhost:8080/",
          "height": 284
        }
      },
      "source": [
        "df.describe()"
      ],
      "execution_count": 33,
      "outputs": [
        {
          "output_type": "execute_result",
          "data": {
            "text/html": [
              "<div>\n",
              "<style scoped>\n",
              "    .dataframe tbody tr th:only-of-type {\n",
              "        vertical-align: middle;\n",
              "    }\n",
              "\n",
              "    .dataframe tbody tr th {\n",
              "        vertical-align: top;\n",
              "    }\n",
              "\n",
              "    .dataframe thead th {\n",
              "        text-align: right;\n",
              "    }\n",
              "</style>\n",
              "<table border=\"1\" class=\"dataframe\">\n",
              "  <thead>\n",
              "    <tr style=\"text-align: right;\">\n",
              "      <th></th>\n",
              "      <th>MEDV</th>\n",
              "      <th>CRIM</th>\n",
              "      <th>INDUS</th>\n",
              "      <th>CHAS</th>\n",
              "      <th>RM</th>\n",
              "      <th>AGE</th>\n",
              "      <th>DIS</th>\n",
              "      <th>TAX</th>\n",
              "      <th>LSTAT</th>\n",
              "    </tr>\n",
              "  </thead>\n",
              "  <tbody>\n",
              "    <tr>\n",
              "      <th>count</th>\n",
              "      <td>506.000000</td>\n",
              "      <td>506.000000</td>\n",
              "      <td>506.000000</td>\n",
              "      <td>506.000000</td>\n",
              "      <td>506.000000</td>\n",
              "      <td>506.000000</td>\n",
              "      <td>506.000000</td>\n",
              "      <td>506.000000</td>\n",
              "      <td>506.000000</td>\n",
              "    </tr>\n",
              "    <tr>\n",
              "      <th>mean</th>\n",
              "      <td>22.532806</td>\n",
              "      <td>3.613524</td>\n",
              "      <td>11.136779</td>\n",
              "      <td>0.069170</td>\n",
              "      <td>6.284634</td>\n",
              "      <td>68.574901</td>\n",
              "      <td>3.795043</td>\n",
              "      <td>408.237154</td>\n",
              "      <td>12.653063</td>\n",
              "    </tr>\n",
              "    <tr>\n",
              "      <th>std</th>\n",
              "      <td>9.197104</td>\n",
              "      <td>8.601545</td>\n",
              "      <td>6.860353</td>\n",
              "      <td>0.253994</td>\n",
              "      <td>0.702617</td>\n",
              "      <td>28.148861</td>\n",
              "      <td>2.105710</td>\n",
              "      <td>168.537116</td>\n",
              "      <td>7.141062</td>\n",
              "    </tr>\n",
              "    <tr>\n",
              "      <th>min</th>\n",
              "      <td>5.000000</td>\n",
              "      <td>0.006320</td>\n",
              "      <td>0.460000</td>\n",
              "      <td>0.000000</td>\n",
              "      <td>3.561000</td>\n",
              "      <td>2.900000</td>\n",
              "      <td>1.129600</td>\n",
              "      <td>187.000000</td>\n",
              "      <td>1.730000</td>\n",
              "    </tr>\n",
              "    <tr>\n",
              "      <th>25%</th>\n",
              "      <td>17.025000</td>\n",
              "      <td>0.082045</td>\n",
              "      <td>5.190000</td>\n",
              "      <td>0.000000</td>\n",
              "      <td>5.885500</td>\n",
              "      <td>45.025000</td>\n",
              "      <td>2.100175</td>\n",
              "      <td>279.000000</td>\n",
              "      <td>6.950000</td>\n",
              "    </tr>\n",
              "    <tr>\n",
              "      <th>50%</th>\n",
              "      <td>21.200000</td>\n",
              "      <td>0.256510</td>\n",
              "      <td>9.690000</td>\n",
              "      <td>0.000000</td>\n",
              "      <td>6.208500</td>\n",
              "      <td>77.500000</td>\n",
              "      <td>3.207450</td>\n",
              "      <td>330.000000</td>\n",
              "      <td>11.360000</td>\n",
              "    </tr>\n",
              "    <tr>\n",
              "      <th>75%</th>\n",
              "      <td>25.000000</td>\n",
              "      <td>3.677083</td>\n",
              "      <td>18.100000</td>\n",
              "      <td>0.000000</td>\n",
              "      <td>6.623500</td>\n",
              "      <td>94.075000</td>\n",
              "      <td>5.188425</td>\n",
              "      <td>666.000000</td>\n",
              "      <td>16.955000</td>\n",
              "    </tr>\n",
              "    <tr>\n",
              "      <th>max</th>\n",
              "      <td>50.000000</td>\n",
              "      <td>88.976200</td>\n",
              "      <td>27.740000</td>\n",
              "      <td>1.000000</td>\n",
              "      <td>8.780000</td>\n",
              "      <td>100.000000</td>\n",
              "      <td>12.126500</td>\n",
              "      <td>711.000000</td>\n",
              "      <td>37.970000</td>\n",
              "    </tr>\n",
              "  </tbody>\n",
              "</table>\n",
              "</div>"
            ],
            "text/plain": [
              "             MEDV        CRIM       INDUS  ...         DIS         TAX       LSTAT\n",
              "count  506.000000  506.000000  506.000000  ...  506.000000  506.000000  506.000000\n",
              "mean    22.532806    3.613524   11.136779  ...    3.795043  408.237154   12.653063\n",
              "std      9.197104    8.601545    6.860353  ...    2.105710  168.537116    7.141062\n",
              "min      5.000000    0.006320    0.460000  ...    1.129600  187.000000    1.730000\n",
              "25%     17.025000    0.082045    5.190000  ...    2.100175  279.000000    6.950000\n",
              "50%     21.200000    0.256510    9.690000  ...    3.207450  330.000000   11.360000\n",
              "75%     25.000000    3.677083   18.100000  ...    5.188425  666.000000   16.955000\n",
              "max     50.000000   88.976200   27.740000  ...   12.126500  711.000000   37.970000\n",
              "\n",
              "[8 rows x 9 columns]"
            ]
          },
          "metadata": {
            "tags": []
          },
          "execution_count": 33
        }
      ]
    },
    {
      "cell_type": "markdown",
      "metadata": {
        "colab_type": "text",
        "id": "HxIK4E_O6oKz"
      },
      "source": [
        "#                            **SECTION -B ( DATA Visualization)**\n",
        "\n",
        ">The following section focuses on recoginizing the ditinct patterns in the data and other info or knowledge from the data using charts.\n",
        "\n",
        "\n",
        "--------------------------------------------------------------------------------\n",
        "\n",
        "\n",
        "\n",
        "\n"
      ]
    },
    {
      "cell_type": "code",
      "metadata": {
        "id": "I28Gh1Cz6wgA",
        "colab_type": "code",
        "colab": {}
      },
      "source": [
        "import matplotlib.pyplot as plt "
      ],
      "execution_count": 0,
      "outputs": []
    },
    {
      "cell_type": "code",
      "metadata": {
        "id": "KGhoe2c-7AJp",
        "colab_type": "code",
        "colab": {
          "base_uri": "https://localhost:8080/",
          "height": 282
        },
        "outputId": "32844d3c-66da-40cd-b176-0ba3799a3aa7"
      },
      "source": [
        "plt.plot(df.iloc[:,0].values,df.iloc[:,1].values)\n"
      ],
      "execution_count": 35,
      "outputs": [
        {
          "output_type": "execute_result",
          "data": {
            "text/plain": [
              "[<matplotlib.lines.Line2D at 0x7f172f0e68d0>]"
            ]
          },
          "metadata": {
            "tags": []
          },
          "execution_count": 35
        },
        {
          "output_type": "display_data",
          "data": {
            "image/png": "[encoded data removed]",
            "text/plain": [
              "<Figure size 432x288 with 1 Axes>"
            ]
          },
          "metadata": {
            "tags": []
          }
        }
      ]
    },
    {
      "cell_type": "markdown",
      "metadata": {
        "id": "2lYmwMt_7pyJ",
        "colab_type": "text"
      },
      "source": [
        "MAKE THE OTHER DATA CHARTS IN RELATION TO THE DATA AND ITS METRICS"
      ]
    },
    {
      "cell_type": "code",
      "metadata": {
        "id": "Fip91DgF7mmc",
        "colab_type": "code",
        "colab": {}
      },
      "source": [
        ""
      ],
      "execution_count": 0,
      "outputs": []
    }
  ]
}